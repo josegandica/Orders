{
 "cells": [
  {
   "cell_type": "code",
   "execution_count": 9,
   "metadata": {},
   "outputs": [
    {
     "name": "stdout",
     "output_type": "stream",
     "text": [
      "          Connector Name First Purchase Date   Billed $\n",
      "0              Abby Arad          2024-03-07     355.00\n",
      "1              Abby Arad          2024-03-07     240.00\n",
      "2              Abby Arad          2024-03-07     395.00\n",
      "3              Abby Arad          2024-03-07     295.00\n",
      "4         Adrienne Meier          2024-03-21     240.00\n",
      "..                   ...                 ...        ...\n",
      "214       Whitley Adkins          2024-03-26   1,195.00\n",
      "215       Whitley Adkins          2024-03-26     595.00\n",
      "216       Whitley Adkins          2024-03-26     595.00\n",
      "217  Whitney Olschwanger          2024-01-03   2,100.00\n",
      "218        Zoe Rosenberg          2024-01-10  23,000.00\n",
      "\n",
      "[219 rows x 3 columns]\n"
     ]
    }
   ],
   "source": [
    "import pandas as pd\n",
    "\n",
    "# Sample data\n",
    "data = pd.read_csv('Analysis cohorts - 2024 sin no dates (1).csv')\n",
    "\n",
    "df = data\n",
    "\n",
    "# Convert 'Purchase Date' to datetime\n",
    "df['Purchase Date'] = pd.to_datetime(df['Purchase Date'])\n",
    "#df['Purchase Date'] = pd.to_datetime(df['Purchase Date'], errors='coerce')\n",
    "\n",
    "\n",
    "\n",
    "# Find the first purchase date for each customer\n",
    "first_purchase = df.groupby('Connector Name')['Purchase Date'].min().reset_index()\n",
    "first_purchase.columns = ['Connector Name', 'First Purchase Date']\n",
    "\n",
    "# Merge to get the corresponding amount for the first purchase date\n",
    "result = pd.merge(first_purchase, df, how='left', left_on=['Connector Name', 'First Purchase Date'], right_on=['Connector Name', 'Purchase Date'])\n",
    "\n",
    "# Select relevant columns\n",
    "result = result[['Connector Name', 'First Purchase Date', 'Billed $']]\n",
    "\n",
    "# Display the result\n",
    "print(result)\n"
   ]
  },
  {
   "cell_type": "code",
   "execution_count": 10,
   "metadata": {},
   "outputs": [],
   "source": [
    "result['Billed $'] = result['Billed $'].str.replace(',','')\n",
    "result['Billed $'] = result['Billed $'].astype(float)"
   ]
  },
  {
   "cell_type": "code",
   "execution_count": 11,
   "metadata": {},
   "outputs": [
    {
     "data": {
      "text/plain": [
       "Connector Name       First Purchase Date\n",
       "Abby Arad            2024-03-07              1285.0\n",
       "Adrienne Meier       2024-03-21               635.0\n",
       "Alex Loeb            2024-01-22              2390.0\n",
       "Alex Rahmani         2024-01-12               725.0\n",
       "Alexandra Munzel     2024-04-24              1428.0\n",
       "                                             ...   \n",
       "Taylor Rapoport      2024-03-13              1098.0\n",
       "Tracy + Paula        2024-01-17               535.0\n",
       "Whitley Adkins       2024-03-26              2385.0\n",
       "Whitney Olschwanger  2024-01-03              2100.0\n",
       "Zoe Rosenberg        2024-01-10             23000.0\n",
       "Name: Billed $, Length: 92, dtype: float64"
      ]
     },
     "execution_count": 11,
     "metadata": {},
     "output_type": "execute_result"
    }
   ],
   "source": [
    "grouped_df = result.groupby(['Connector Name', 'First Purchase Date'])['Billed $'].sum()\n",
    "grouped_df\n"
   ]
  },
  {
   "cell_type": "code",
   "execution_count": 12,
   "metadata": {},
   "outputs": [],
   "source": [
    "grouped_df.to_csv('first_dates_2024.csv')"
   ]
  }
 ],
 "metadata": {
  "kernelspec": {
   "display_name": "base",
   "language": "python",
   "name": "python3"
  },
  "language_info": {
   "codemirror_mode": {
    "name": "ipython",
    "version": 3
   },
   "file_extension": ".py",
   "mimetype": "text/x-python",
   "name": "python",
   "nbconvert_exporter": "python",
   "pygments_lexer": "ipython3",
   "version": "3.9.13"
  }
 },
 "nbformat": 4,
 "nbformat_minor": 2
}
